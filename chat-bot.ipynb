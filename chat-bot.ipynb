{
 "cells": [
  {
   "cell_type": "code",
   "execution_count": 2,
   "metadata": {},
   "outputs": [],
   "source": [
    "import numpy as np\n",
    "from keras import layers , activations , models , preprocessing, optimizers, callbacks, preprocessing, utils\n",
    "from matplotlib import pyplot as plt\n",
    "import os\n",
    "import yaml\n",
    "import requests, zipfile, io\n",
    "from re import findall, sub\n",
    "from collections import Counter\n",
    "from tqdm import tqdm\n",
    "from pickle import dump, load\n",
    "\n",
    "%matplotlib inline\n",
    "callbacks = [callbacks.EarlyStopping(monitor='loss', patience=2)]"
   ]
  },
  {
   "cell_type": "code",
   "execution_count": 18,
   "metadata": {},
   "outputs": [],
   "source": [
    "def tokk():\n",
    "    with open('dialogues.txt', encoding='utf-8') as file:\n",
    "        content = file.read().lower()\n",
    "        content = \" \".join(findall(r'[\\n\\w-]+', content)[:5 * 10 ** 5])\n",
    "        counter = Counter(content.split())\n",
    "    for word in tqdm(counter):\n",
    "        if counter[word] < 10:\n",
    "            content = sub(\" \" + word + \" \", ' ', content)\n",
    "    content = content.split('\\n\\n')\n",
    "    return content"
   ]
  },
  {
   "cell_type": "code",
   "execution_count": 19,
   "metadata": {},
   "outputs": [
    {
     "name": "stderr",
     "output_type": "stream",
     "text": [
      "100%|███████████████████████████████████████████████████████████████████████████| 39165/39165 [05:13<00:00, 124.91it/s]\n",
      "100%|████████████████████████████████████████████████████████████████████████| 34092/34092 [00:00<00:00, 239851.40it/s]\n"
     ]
    },
    {
     "name": "stdout",
     "output_type": "stream",
     "text": [
      "VOCAB SIZE : 4182\n"
     ]
    }
   ],
   "source": [
    "content = tokk()\n",
    "\n",
    "questions = []\n",
    "answers = []\n",
    "\n",
    "for con in tqdm(content):\n",
    "    con = [i.strip() for i in con.split('-')][1:]\n",
    "    con = con if not len(con) % 2 else con[:-1]\n",
    "    questions.extend([st for index, st in enumerate(con) if not index % 2])\n",
    "    answers.extend(['<START> ' + st + ' <END>' for index, st in enumerate(con) if index % 2])\n",
    "    \n",
    "tokenizer = preprocessing.text.Tokenizer()\n",
    "tokenizer.fit_on_texts(questions + answers)\n",
    "VOCAB_SIZE = len(tokenizer.word_index) + 1\n",
    "print('VOCAB SIZE : {}'.format(VOCAB_SIZE))"
   ]
  },
  {
   "cell_type": "code",
   "execution_count": 5,
   "metadata": {},
   "outputs": [],
   "source": [
    "dump(tokenizer, open('tokenizer_vocab', \"wb\"))"
   ]
  },
  {
   "cell_type": "code",
   "execution_count": 20,
   "metadata": {},
   "outputs": [
    {
     "name": "stdout",
     "output_type": "stream",
     "text": [
      "(45057, 13) 13\n",
      "(45057, 15) 15\n",
      "(45057, 15, 4182)\n"
     ]
    }
   ],
   "source": [
    "# encoder_input_data\n",
    "tokenized_questions = tokenizer.texts_to_sequences(questions)\n",
    "maxlen_questions = max([len(x) for x in tokenized_questions])\n",
    "padded_questions = preprocessing.sequence.pad_sequences(tokenized_questions, maxlen=maxlen_questions, padding='post')\n",
    "encoder_input_data = np.array(padded_questions)\n",
    "print(encoder_input_data.shape, maxlen_questions)\n",
    "\n",
    "# decoder_input_data\n",
    "tokenized_answers = tokenizer.texts_to_sequences(answers)\n",
    "maxlen_answers = max([len(x) for x in tokenized_answers])\n",
    "padded_answers = preprocessing.sequence.pad_sequences(tokenized_answers, maxlen=maxlen_answers, padding='post')\n",
    "decoder_input_data = np.array(padded_answers)\n",
    "print(decoder_input_data.shape, maxlen_answers)\n",
    "\n",
    "# decoder_output_data\n",
    "tokenized_answers = tokenizer.texts_to_sequences(answers)\n",
    "for i in range(len(tokenized_answers)):\n",
    "    tokenized_answers[i] = tokenized_answers[i][1:]\n",
    "padded_answers = preprocessing.sequence.pad_sequences(tokenized_answers, maxlen=maxlen_answers, padding='post')\n",
    "onehot_answers = utils.to_categorical(padded_answers, VOCAB_SIZE)\n",
    "decoder_output_data = np.array(onehot_answers)\n",
    "print(decoder_output_data.shape)\n",
    "\n",
    "# Saving all the arrays to storage\n",
    "np.save('enc_in_data.npy', encoder_input_data)\n",
    "np.save('dec_in_data.npy', decoder_input_data)\n",
    "np.save('dec_tar_data.npy', decoder_output_data)"
   ]
  },
  {
   "cell_type": "code",
   "execution_count": 3,
   "metadata": {},
   "outputs": [],
   "source": [
    "encoder_input_data = np.load('enc_in_data.npy')\n",
    "decoder_input_data = np.load('dec_in_data.npy')\n",
    "decoder_output_data = np.load('dec_tar_data.npy')"
   ]
  },
  {
   "cell_type": "code",
   "execution_count": 5,
   "metadata": {},
   "outputs": [],
   "source": [
    "VOCAB_SIZE = 4182"
   ]
  },
  {
   "cell_type": "code",
   "execution_count": 7,
   "metadata": {},
   "outputs": [
    {
     "name": "stdout",
     "output_type": "stream",
     "text": [
      "__________________________________________________________________________________________________\n",
      "Layer (type)                    Output Shape         Param #     Connected to                     \n",
      "==================================================================================================\n",
      "input_4 (InputLayer)            (None, None)         0                                            \n",
      "__________________________________________________________________________________________________\n",
      "input_5 (InputLayer)            (None, None)         0                                            \n",
      "__________________________________________________________________________________________________\n",
      "embedding_3 (Embedding)         (None, None, 200)    836400      input_4[0][0]                    \n",
      "__________________________________________________________________________________________________\n",
      "embedding_4 (Embedding)         (None, None, 200)    836400      input_5[0][0]                    \n",
      "__________________________________________________________________________________________________\n",
      "lstm_3 (LSTM)                   [(None, 200), (None, 320800      embedding_3[0][0]                \n",
      "__________________________________________________________________________________________________\n",
      "lstm_4 (LSTM)                   [(None, None, 200),  320800      embedding_4[0][0]                \n",
      "                                                                 lstm_3[0][1]                     \n",
      "                                                                 lstm_3[0][2]                     \n",
      "__________________________________________________________________________________________________\n",
      "dense_2 (Dense)                 (None, None, 4182)   840582      lstm_4[0][0]                     \n",
      "==================================================================================================\n",
      "Total params: 3,154,982\n",
      "Trainable params: 3,154,982\n",
      "Non-trainable params: 0\n",
      "__________________________________________________________________________________________________\n"
     ]
    }
   ],
   "source": [
    "encoder_inputs = layers.Input(shape=(None, ))\n",
    "encoder_embedding = layers.Embedding(VOCAB_SIZE, 200, mask_zero=True)(encoder_inputs)\n",
    "_, state_h, state_c = layers.LSTM(200, return_state=True)(encoder_embedding)\n",
    "encoder_states = [state_h, state_c]\n",
    "\n",
    "decoder_inputs = layers.Input(shape=(None, ))\n",
    "decoder_embedding = layers.Embedding(VOCAB_SIZE, 200, mask_zero=True)(decoder_inputs)\n",
    "decoder_lstm = layers.LSTM(200, return_state=True, return_sequences=True)\n",
    "decoder_outputs, _, _ = decoder_lstm(decoder_embedding, initial_state=encoder_states)\n",
    "decoder_dense = layers.Dense(VOCAB_SIZE, activation=activations.softmax) \n",
    "output = decoder_dense(decoder_outputs)\n",
    "\n",
    "model = models.Model([encoder_inputs, decoder_inputs], output)\n",
    "model.compile(optimizer=optimizers.Adam(), loss='categorical_crossentropy', metrics=['acc'])\n",
    "\n",
    "model.summary()"
   ]
  },
  {
   "cell_type": "code",
   "execution_count": 8,
   "metadata": {},
   "outputs": [
    {
     "name": "stderr",
     "output_type": "stream",
     "text": [
      "W0904 01:59:30.296724  4176 deprecation_wrapper.py:119] From C:\\Users\\Bogdan\\Anaconda3\\lib\\site-packages\\keras\\backend\\tensorflow_backend.py:986: The name tf.assign_add is deprecated. Please use tf.compat.v1.assign_add instead.\n",
      "\n",
      "C:\\Users\\Bogdan\\Anaconda3\\lib\\site-packages\\keras\\engine\\network.py:877: UserWarning: Layer lstm_4 was passed non-serializable keyword arguments: {'initial_state': [<tf.Tensor 'lstm_3/while/Exit_2:0' shape=(?, 200) dtype=float32>, <tf.Tensor 'lstm_3/while/Exit_3:0' shape=(?, 200) dtype=float32>]}. They will not be included in the serialized model (and thus will be missing at deserialization time).\n",
      "  '. They will not be included '\n"
     ]
    }
   ],
   "source": [
    "history = model.fit([encoder_input_data , decoder_input_data], \n",
    "                    decoder_output_data,\n",
    "                    batch_size=64,\n",
    "                    callbacks=callbacks,\n",
    "                    epochs=500,\n",
    "                    verbose=False) \n",
    "model.save( 'model.h5' ) "
   ]
  },
  {
   "cell_type": "code",
   "execution_count": 9,
   "metadata": {},
   "outputs": [
    {
     "data": {
      "image/png": "[encoded data removed]",
      "text/plain": [
       "<Figure size 432x288 with 1 Axes>"
      ]
     },
     "metadata": {
      "needs_background": "light"
     },
     "output_type": "display_data"
    }
   ],
   "source": [
    "plt.plot(range(1, len(history.history['loss']) + 1), history.history['loss'])\n",
    "plt.title('loss')\n",
    "plt.grid(True)"
   ]
  },
  {
   "cell_type": "code",
   "execution_count": 10,
   "metadata": {},
   "outputs": [],
   "source": [
    "def make_inference_models():\n",
    "    encoder_model = models.Model(encoder_inputs, encoder_states)\n",
    "    \n",
    "    decoder_states_inputs = [layers.Input(shape=(200, )), layers.Input(shape=(200, ))]\n",
    "    decoder_outputs, state_h, state_c = decoder_lstm(decoder_embedding, initial_state=decoder_states_inputs)\n",
    "    decoder_outputs = decoder_dense(decoder_outputs)\n",
    "    decoder_model = models.Model([decoder_inputs] + decoder_states_inputs, [decoder_outputs, state_h, state_c])\n",
    "    return encoder_model, decoder_model\n",
    "\n",
    "\n",
    "\n",
    "def str_to_tokens(sentence):\n",
    "    tokens_list = [tokenizer.word_index[word] for word in sentence.lower().split()]\n",
    "    return preprocessing.sequence.pad_sequences([tokens_list], maxlen=maxlen_questions, padding='post')"
   ]
  },
  {
   "cell_type": "code",
   "execution_count": 11,
   "metadata": {},
   "outputs": [],
   "source": [
    "model.load_weights('model.h5')"
   ]
  },
  {
   "cell_type": "code",
   "execution_count": 14,
   "metadata": {},
   "outputs": [],
   "source": [
    "tokenizer = load(open('tokenizer_vocab', 'rb'))"
   ]
  },
  {
   "cell_type": "code",
   "execution_count": 22,
   "metadata": {},
   "outputs": [
    {
     "name": "stdout",
     "output_type": "stream",
     "text": [
      "\n",
      "Enter question : привет\n",
      "привет \n",
      "Enter question : как дела\n",
      "так себе \n",
      "Enter question : что делаешь\n",
      "как видишь \n",
      "Enter question : ты где\n",
      "тут \n",
      "Enter question : сколько тебе лет\n",
      "какая разница \n",
      "Enter question : как тебя зовут\n",
      "найл \n",
      "Enter question : красиво\n",
      "э \n",
      "Enter question : что\n",
      "то я тебе \n",
      "Enter question : не приятно\n",
      "может не быть этого вы уже знаешь \n",
      "Enter question : ну спасибо\n"
     ]
    }
   ],
   "source": [
    "enc_model , dec_model = make_inference_models()\n",
    "\n",
    "for i in range(10):\n",
    "    states_values = enc_model.predict(str_to_tokens(input('\\nEnter question : ')))\n",
    "    empty_target_seq = np.zeros((1, 1))\n",
    "    empty_target_seq[0, 0] = tokenizer.word_index['start']\n",
    "    count = 0\n",
    "    while True:\n",
    "        count += 1\n",
    "        dec_outputs, h, c = dec_model.predict([empty_target_seq] + states_values)\n",
    "        sampled_word_index = np.argmax(dec_outputs)\n",
    "        sampled_word = tokenizer.index_word[sampled_word_index]\n",
    "        if sampled_word == 'end' or count > maxlen_answers:\n",
    "            break\n",
    "            \n",
    "        print(sampled_word, end=' ')\n",
    "        empty_target_seq[0, 0] = sampled_word_index\n",
    "        states_values = [h ,c] "
   ]
  },
  {
   "cell_type": "markdown",
   "metadata": {},
   "source": [
    "***"
   ]
  }
 ],
 "metadata": {
  "kernelspec": {
   "display_name": "Python 3",
   "language": "python",
   "name": "python3"
  },
  "language_info": {
   "codemirror_mode": {
    "name": "ipython",
    "version": 3
   },
   "file_extension": ".py",
   "mimetype": "text/x-python",
   "name": "python",
   "nbconvert_exporter": "python",
   "pygments_lexer": "ipython3",
   "version": "3.7.3"
  }
 },
 "nbformat": 4,
 "nbformat_minor": 2
}
